{
 "cells": [
  {
   "cell_type": "code",
   "execution_count": 1,
   "source": [
    "import os\n",
    "import pandas as pd\n",
    "from typing import List"
   ],
   "outputs": [],
   "metadata": {}
  },
  {
   "cell_type": "code",
   "execution_count": 2,
   "source": [
    "def get_all_folders() -> List[str]:\n",
    "    exclude_folders = ['env']\n",
    "    folders = []\n",
    "    for ld in os.listdir('./'):\n",
    "        isdir = os.path.isdir(ld)\n",
    "        not_hide_folders = not ld.startswith('.')\n",
    "        not_exclude_folders = ld not in exclude_folders\n",
    "        if isdir and not_hide_folders and not_exclude_folders:\n",
    "            folders.append(ld)\n",
    "    return folders\n",
    "    \n",
    "folders = get_all_folders()\n",
    "print(f'{folders[:5]}... , {len(folders)} folders')"
   ],
   "outputs": [
    {
     "output_type": "stream",
     "name": "stdout",
     "text": [
      "['BackEndID', 'CCpp_Indonesia', 'bootstrap_id', 'LowonganKerjaIT', 'flutter_jkt']... , 31 folders\n"
     ]
    }
   ],
   "metadata": {}
  },
  {
   "cell_type": "code",
   "execution_count": 3,
   "source": [
    "def get_new_file_name(old_path: str) -> str:\n",
    "    df = pd.read_csv(old_path)\n",
    "\n",
    "    folder = os.path.dirname(old_path)\n",
    "    first = df.id.iloc[0]\n",
    "    last = df.id.iloc[-1]\n",
    "    return f'{folder}-{first}-{last}.csv'\n",
    "\n",
    "\n",
    "def change_file_name() -> None:\n",
    "    for folder in folders:\n",
    "        for old_file_name in os.listdir(folder):\n",
    "            old_path = os.path.join(folder, old_file_name)\n",
    "            new_file_name = get_new_file_name(old_path)\n",
    "            new_path = os.path.join(folder, new_file_name)\n",
    "            \n",
    "            old_first, old_last = old_path.split('-')[-2],old_path.split('-')[-1]\n",
    "            new_first, new_last = new_path.split('-')[-2],new_path.split('-')[-1]\n",
    "            if old_first != new_first or old_last != new_last:\n",
    "                print('X ', end='')\n",
    "            else:\n",
    "                print('V ', end='')\n",
    "            \n",
    "            print(f'{old_path} -> {new_path}')\n",
    "            os.rename(old_path, new_path)\n",
    "\n",
    "change_file_name()\n"
   ],
   "outputs": [
    {
     "output_type": "stream",
     "name": "stdout",
     "text": [
      "V BackEndID/BackEndID-1-25598.csv -> BackEndID/BackEndID-1-25598.csv\n",
      "V BackEndID/BackEndID-25600-51199.csv -> BackEndID/BackEndID-25600-51199.csv\n",
      "X BackEndID/BackEndID-51200-76800.csv -> BackEndID/BackEndID-51200-76597.csv\n",
      "X CCpp_Indonesia/CCpp_Indonesia-0-15032.csv -> CCpp_Indonesia/CCpp_Indonesia-1-15031.csv\n",
      "X CCpp_Indonesia/CCpp_Indonesia-30067-45100.csv -> CCpp_Indonesia/CCpp_Indonesia-30067-45010.csv\n",
      "X CCpp_Indonesia/CCpp_Indonesia-15033-30066.csv -> CCpp_Indonesia/CCpp_Indonesia-15033-30065.csv\n",
      "X bootstrap_id/bootstrap_id-11167-22333.csv -> bootstrap_id/bootstrap_id-11172-22325.csv\n",
      "X bootstrap_id/bootstrap_id-22334-33500.csv -> bootstrap_id/bootstrap_id-22341-33418.csv\n",
      "X bootstrap_id/bootstrap_id-0-11166.csv -> bootstrap_id/bootstrap_id-1-11161.csv\n",
      "X LowonganKerjaIT/LowonganKerjaIT-270267-405400.csv -> LowonganKerjaIT/LowonganKerjaIT-270267-405388.csv\n",
      "X LowonganKerjaIT/LowonganKerjaIT-0-135132.csv -> LowonganKerjaIT/LowonganKerjaIT-1-135132.csv\n",
      "V LowonganKerjaIT/LowonganKerjaIT-135133-270266.csv -> LowonganKerjaIT/LowonganKerjaIT-135133-270266.csv\n",
      "X flutter_jkt/flutter_jkt-3133-6266.csv -> flutter_jkt/flutter_jkt-3142-6263.csv\n",
      "X flutter_jkt/flutter_jkt-0-3132.csv -> flutter_jkt/flutter_jkt-1-3132.csv\n",
      "X flutter_jkt/flutter_jkt-6267-9400.csv -> flutter_jkt/flutter_jkt-6267-9352.csv\n",
      "X agilecirclesid/agilecirclesid-8600-12900.csv -> agilecirclesid/agilecirclesid-8603-12833.csv\n",
      "X agilecirclesid/agilecirclesid-4300-8599.csv -> agilecirclesid/agilecirclesid-4309-8598.csv\n",
      "X agilecirclesid/agilecirclesid-0-4299.csv -> agilecirclesid/agilecirclesid-1-4282.csv\n",
      "X postgresql_id/postgresql_id-0-8066.csv -> postgresql_id/postgresql_id-1-8066.csv\n",
      "X postgresql_id/postgresql_id-16134-24200.csv -> postgresql_id/postgresql_id-16134-24119.csv\n",
      "V postgresql_id/postgresql_id-8067-16133.csv -> postgresql_id/postgresql_id-8067-16133.csv\n",
      "X freelancerID/freelancerID-129934-194900.csv -> freelancerID/freelancerID-129944-194840.csv\n",
      "X freelancerID/freelancerID-64967-129933.csv -> freelancerID/freelancerID-64967-129932.csv\n",
      "X freelancerID/freelancerID-0-64966.csv -> freelancerID/freelancerID-1-64966.csv\n",
      "X DjangoID/DjangoID-42000-63000.csv -> DjangoID/DjangoID-42002-62941.csv\n",
      "X DjangoID/DjangoID-0-20999.csv -> DjangoID/DjangoID-1-20989.csv\n",
      "V DjangoID/DjangoID-21000-41999.csv -> DjangoID/DjangoID-21000-41999.csv\n",
      "X androiddevelopernasional/androiddevelopernasional-0-54866.csv -> androiddevelopernasional/androiddevelopernasional-1-54866.csv\n",
      "V androiddevelopernasional/androiddevelopernasional-54867-109733.csv -> androiddevelopernasional/androiddevelopernasional-54867-109733.csv\n",
      "X androiddevelopernasional/androiddevelopernasional-109734-164600.csv -> androiddevelopernasional/androiddevelopernasional-109734-164585.csv\n",
      "X dotnetusergroup/dotnetusergroup-30534-45800.csv -> dotnetusergroup/dotnetusergroup-30534-45757.csv\n",
      "X dotnetusergroup/dotnetusergroup-15267-30533.csv -> dotnetusergroup/dotnetusergroup-15268-30533.csv\n",
      "X dotnetusergroup/dotnetusergroup-0-15266.csv -> dotnetusergroup/dotnetusergroup-1-15266.csv\n",
      "V teknorialcom/teknorialcom-3600-7199.csv -> teknorialcom/teknorialcom-3600-7199.csv\n",
      "X teknorialcom/teknorialcom-0-3599.csv -> teknorialcom/teknorialcom-1-3599.csv\n",
      "X eventteknologi/eventteknologi-12400-24799.csv -> eventteknologi/eventteknologi-12401-24799.csv\n",
      "X eventteknologi/eventteknologi-24800-37200.csv -> eventteknologi/eventteknologi-24801-37095.csv\n",
      "X eventteknologi/eventteknologi-0-12399.csv -> eventteknologi/eventteknologi-1-12399.csv\n",
      "X AssemblyID/AssemblyID-4267-6400.csv -> AssemblyID/AssemblyID-4267-6399.csv\n",
      "X AssemblyID/AssemblyID-0-2132.csv -> AssemblyID/AssemblyID-1-2129.csv\n",
      "X AssemblyID/AssemblyID-2133-4266.csv -> AssemblyID/AssemblyID-2141-4266.csv\n",
      "X flutter_id/flutter_id-151800-227700.csv -> flutter_id/flutter_id-151800-227627.csv\n",
      "X flutter_id/flutter_id-0-75899.csv -> flutter_id/flutter_id-1-75898.csv\n",
      "X flutter_id/flutter_id-75900-151799.csv -> flutter_id/flutter_id-75900-151798.csv\n",
      "X xamarinindonesia/xamarinindonesia-7534-11300.csv -> xamarinindonesia/xamarinindonesia-7534-11208.csv\n",
      "X xamarinindonesia/xamarinindonesia-0-3766.csv -> xamarinindonesia/xamarinindonesia-1-3766.csv\n",
      "X xamarinindonesia/xamarinindonesia-3767-7533.csv -> xamarinindonesia/xamarinindonesia-3768-7533.csv\n",
      "X fluttermakassar/fluttermakassar-2134-3200.csv -> fluttermakassar/fluttermakassar-2135-3156.csv\n",
      "V fluttermakassar/fluttermakassar-1067-2133.csv -> fluttermakassar/fluttermakassar-1067-2133.csv\n",
      "X fluttermakassar/fluttermakassar-0-1066.csv -> fluttermakassar/fluttermakassar-1-1066.csv\n",
      "X AndroidSemarang/AndroidSemarang-41600-62400.csv -> AndroidSemarang/AndroidSemarang-41600-62377.csv\n",
      "V AndroidSemarang/AndroidSemarang-20800-41599.csv -> AndroidSemarang/AndroidSemarang-20800-41599.csv\n",
      "X AndroidSemarang/AndroidSemarang-0-20799.csv -> AndroidSemarang/AndroidSemarang-1-20799.csv\n",
      "X androiddevsurabaya/androiddevsurabaya-27467-41200.csv -> androiddevsurabaya/androiddevsurabaya-27467-41120.csv\n",
      "V androiddevsurabaya/androiddevsurabaya-13733-27466.csv -> androiddevsurabaya/androiddevsurabaya-13733-27466.csv\n",
      "X androiddevsurabaya/androiddevsurabaya-0-13732.csv -> androiddevsurabaya/androiddevsurabaya-1-13732.csv\n",
      "X dart_web/dart_web-4534-6800.csv -> dart_web/dart_web-4534-6746.csv\n",
      "V dart_web/dart_web-2267-4533.csv -> dart_web/dart_web-2267-4533.csv\n",
      "X dart_web/dart_web-0-2266.csv -> dart_web/dart_web-1-2266.csv\n",
      "V freelance_01/freelance_01-9733-19466.csv -> freelance_01/freelance_01-9733-19466.csv\n",
      "X freelance_01/freelance_01-0-9732.csv -> freelance_01/freelance_01-1-9732.csv\n",
      "X freelance_01/freelance_01-19467-29200.csv -> freelance_01/freelance_01-19467-29113.csv\n",
      "X dotnetcore_id/dotnetcore_id-0-20532.csv -> dotnetcore_id/dotnetcore_id-1-20532.csv\n",
      "X dotnetcore_id/dotnetcore_id-41067-61600.csv -> dotnetcore_id/dotnetcore_id-41067-61584.csv\n",
      "V dotnetcore_id/dotnetcore_id-20533-41066.csv -> dotnetcore_id/dotnetcore_id-20533-41066.csv\n",
      "X flaskid/flaskid-10800-16200.csv -> flaskid/flaskid-10800-16159.csv\n",
      "X flaskid/flaskid-0-5399.csv -> flaskid/flaskid-1-5399.csv\n",
      "V flaskid/flaskid-5400-10799.csv -> flaskid/flaskid-5400-10799.csv\n",
      "X bashidorg/bashidorg-21734-32600.csv -> bashidorg/bashidorg-21734-32535.csv\n",
      "X bashidorg/bashidorg-10867-21733.csv -> bashidorg/bashidorg-10869-21733.csv\n",
      "X bashidorg/bashidorg-0-10866.csv -> bashidorg/bashidorg-1-10866.csv\n",
      "X androidDevBdg/androidDevBdg-0-60799.csv -> androidDevBdg/androidDevBdg-1-60799.csv\n",
      "X androidDevBdg/androidDevBdg-60800-121599.csv -> androidDevBdg/androidDevBdg-60800-121598.csv\n",
      "X androidDevBdg/androidDevBdg-121600-182400.csv -> androidDevBdg/androidDevBdg-121600-182347.csv\n",
      "X pythonID/pythonID-175875-234500.csv -> pythonID/pythonID-175875-234476.csv\n",
      "X pythonID/pythonID-0-58624.csv -> pythonID/pythonID-1-58624.csv\n",
      "X pythonID/pythonID-117250-175874.csv -> pythonID/pythonID-117250-175872.csv\n",
      "V pythonID/pythonID-58625-117249.csv -> pythonID/pythonID-58625-117249.csv\n",
      "X android_lombok/android_lombok-13000-19500.csv -> android_lombok/android_lombok-13000-19442.csv\n",
      "X android_lombok/android_lombok-0-6499.csv -> android_lombok/android_lombok-1-6499.csv\n",
      "X android_lombok/android_lombok-6500-12999.csv -> android_lombok/android_lombok-6502-12999.csv\n",
      "X dockeridn/dockeridn-21800-32700.csv -> dockeridn/dockeridn-21800-32631.csv\n",
      "X dockeridn/dockeridn-0-10899.csv -> dockeridn/dockeridn-1-10899.csv\n",
      "X dockeridn/dockeridn-10900-21799.csv -> dockeridn/dockeridn-10900-21797.csv\n",
      "X idcplc/idcplc-0-76766.csv -> idcplc/idcplc-1-76766.csv\n",
      "X idcplc/idcplc-76767-153533.csv -> idcplc/idcplc-76768-153533.csv\n",
      "V lombokflutter/lombokflutter-733-1466.csv -> lombokflutter/lombokflutter-733-1466.csv\n",
      "X lombokflutter/lombokflutter-1467-2200.csv -> lombokflutter/lombokflutter-1467-2108.csv\n",
      "X lombokflutter/lombokflutter-0-732.csv -> lombokflutter/lombokflutter-1-732.csv\n",
      "X CrystalID/CrystalID-0-2366.csv -> CrystalID/CrystalID-1-2366.csv\n",
      "X CrystalID/CrystalID-4734-7100.csv -> CrystalID/CrystalID-4734-7059.csv\n",
      "V CrystalID/CrystalID-2367-4733.csv -> CrystalID/CrystalID-2367-4733.csv\n"
     ]
    }
   ],
   "metadata": {}
  },
  {
   "cell_type": "code",
   "execution_count": null,
   "source": [],
   "outputs": [],
   "metadata": {}
  }
 ],
 "metadata": {
  "orig_nbformat": 4,
  "language_info": {
   "name": "python",
   "version": "3.9.5",
   "mimetype": "text/x-python",
   "codemirror_mode": {
    "name": "ipython",
    "version": 3
   },
   "pygments_lexer": "ipython3",
   "nbconvert_exporter": "python",
   "file_extension": ".py"
  },
  "kernelspec": {
   "name": "python3",
   "display_name": "Python 3.9.5 64-bit ('env': venv)"
  },
  "interpreter": {
   "hash": "e25dcea76c4cde3805b96d38883c625e91211e39a2b6884b98fc85d0237dcd9b"
  }
 },
 "nbformat": 4,
 "nbformat_minor": 2
}