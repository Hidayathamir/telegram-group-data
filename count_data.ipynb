{
 "cells": [
  {
   "cell_type": "code",
   "execution_count": 1,
   "source": [
    "import os\n",
    "import pandas as pd\n",
    "from typing import List\n",
    "from numpy import int64"
   ],
   "outputs": [],
   "metadata": {}
  },
  {
   "cell_type": "code",
   "execution_count": 2,
   "source": [
    "def get_all_folders() -> List[str]:\n",
    "    exclude_folders = ['env']\n",
    "    folders = []\n",
    "    for ld in os.listdir('./'):\n",
    "        isdir = os.path.isdir(ld)\n",
    "        not_hide_folders = not ld.startswith('.')\n",
    "        not_exclude_folders = ld not in exclude_folders\n",
    "        if isdir and not_hide_folders and not_exclude_folders:\n",
    "            folders.append(ld)\n",
    "    return folders\n",
    "    \n",
    "folders = get_all_folders()\n",
    "print(f'{folders[:5]}... , {len(folders)} folders')"
   ],
   "outputs": [
    {
     "output_type": "stream",
     "name": "stdout",
     "text": [
      "['BackEndID', 'CCpp_Indonesia', 'bootstrap_id', 'LowonganKerjaIT', 'flutter_jkt']... , 31 folders\n"
     ]
    }
   ],
   "metadata": {}
  },
  {
   "cell_type": "code",
   "execution_count": 4,
   "source": [
    "def count_row(path: str) -> int64:\n",
    "    df = pd.read_csv(path)\n",
    "    return df.id.count()\n",
    "\n",
    "\n",
    "def count_data() -> int64:\n",
    "    count = 0\n",
    "    for folder in folders:\n",
    "        for file_name in os.listdir(folder):\n",
    "            path = os.path.join(folder, file_name)\n",
    "            count += count_row(path)\n",
    "    return count\n",
    "\n",
    "print(f'count data : {count_data():,}')"
   ],
   "outputs": [
    {
     "output_type": "stream",
     "name": "stdout",
     "text": [
      "count data : 1,865,827\n"
     ]
    }
   ],
   "metadata": {}
  },
  {
   "cell_type": "code",
   "execution_count": null,
   "source": [],
   "outputs": [],
   "metadata": {}
  }
 ],
 "metadata": {
  "orig_nbformat": 4,
  "language_info": {
   "name": "python",
   "version": "3.9.5",
   "mimetype": "text/x-python",
   "codemirror_mode": {
    "name": "ipython",
    "version": 3
   },
   "pygments_lexer": "ipython3",
   "nbconvert_exporter": "python",
   "file_extension": ".py"
  },
  "kernelspec": {
   "name": "python3",
   "display_name": "Python 3.9.5 64-bit ('env': venv)"
  },
  "interpreter": {
   "hash": "e25dcea76c4cde3805b96d38883c625e91211e39a2b6884b98fc85d0237dcd9b"
  }
 },
 "nbformat": 4,
 "nbformat_minor": 2
}